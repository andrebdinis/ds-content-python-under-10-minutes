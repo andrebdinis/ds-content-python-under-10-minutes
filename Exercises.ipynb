{
  "cells": [
    {
      "cell_type": "markdown",
      "metadata": {
        "id": "YU0I-o80n5Qu"
      },
      "source": [
        "![rmotr](https://user-images.githubusercontent.com/7065401/52071918-bda15380-2562-11e9-828c-7f95297e4a82.png)\n",
        "<hr style=\"margin-bottom: 40px;\">\n",
        "\n",
        "# Python in under 10 minutes - Exercises\n"
      ]
    },
    {
      "cell_type": "markdown",
      "metadata": {
        "id": "kmYDZRGcn5Q_"
      },
      "source": [
        "![green-divider](https://user-images.githubusercontent.com/7065401/52071924-c003ad80-2562-11e9-8297-1c6595f8a7ff.png)\n",
        "\n",
        "### Exercise 1\n",
        "\n",
        "Convert the following `str` into `int` type.\n",
        "\n",
        "`revenue_as_string = \"500000\"`"
      ]
    },
    {
      "cell_type": "code",
      "execution_count": 29,
      "metadata": {
        "id": "BiQHBubZn5RC",
        "outputId": "067c3ef2-1dbd-4ae1-83fb-f58043014845",
        "colab": {
          "base_uri": "https://localhost:8080/"
        }
      },
      "outputs": [
        {
          "output_type": "execute_result",
          "data": {
            "text/plain": [
              "500000"
            ]
          },
          "metadata": {},
          "execution_count": 29
        }
      ],
      "source": [
        "revenue_as_string = \"500000\"\n",
        "\n",
        "# your code goes here\n",
        "revenue = int(revenue_as_string)\n",
        "revenue\n",
        "\n",
        "#revenue_as_integer = int(revenue_as_string)"
      ]
    },
    {
      "cell_type": "markdown",
      "metadata": {
        "id": "DpyzPtXCn5RN"
      },
      "source": [
        "![green-divider](https://user-images.githubusercontent.com/7065401/52071924-c003ad80-2562-11e9-8297-1c6595f8a7ff.png)\n",
        "\n",
        "### Exercise 2\n",
        "\n",
        "Make a function using the following formula:\n",
        "\n",
        "$$ f(x,y) = 2 x + y $$"
      ]
    },
    {
      "cell_type": "code",
      "execution_count": 30,
      "metadata": {
        "id": "EbqeqdR3n5RQ"
      },
      "outputs": [],
      "source": [
        "# your code goes here\n",
        "def exerciseTwoFunc(x, y):\n",
        "  return (2 * x) + y\n",
        "\n",
        "#def func(x, y):\n",
        "#  return 2*x + y"
      ]
    },
    {
      "cell_type": "code",
      "source": [
        "exerciseTwoFunc(-3, 10)"
      ],
      "metadata": {
        "id": "4AgZVEO9GLJM",
        "outputId": "0f33d95b-a745-49f1-c9e4-927d8d9bb75d",
        "colab": {
          "base_uri": "https://localhost:8080/"
        }
      },
      "execution_count": 31,
      "outputs": [
        {
          "output_type": "execute_result",
          "data": {
            "text/plain": [
              "4"
            ]
          },
          "metadata": {},
          "execution_count": 31
        }
      ]
    },
    {
      "cell_type": "code",
      "source": [
        "exerciseTwoFunc(5, 10)"
      ],
      "metadata": {
        "id": "p2EGpdvIGOzs",
        "outputId": "6624004d-0901-41fb-d0ea-c579fc5af58d",
        "colab": {
          "base_uri": "https://localhost:8080/"
        }
      },
      "execution_count": 32,
      "outputs": [
        {
          "output_type": "execute_result",
          "data": {
            "text/plain": [
              "20"
            ]
          },
          "metadata": {},
          "execution_count": 32
        }
      ]
    },
    {
      "cell_type": "markdown",
      "metadata": {
        "id": "SpdeeaCsn5Rf"
      },
      "source": [
        "![green-divider](https://user-images.githubusercontent.com/7065401/52071924-c003ad80-2562-11e9-8297-1c6595f8a7ff.png)\n",
        "\n",
        "### Exercise 3\n",
        "\n",
        "Make a function that receives a string as parameter and return the last letter on it."
      ]
    },
    {
      "cell_type": "code",
      "execution_count": 33,
      "metadata": {
        "id": "C1HfTZ6Ln5Rg"
      },
      "outputs": [],
      "source": [
        "# your code goes here\n",
        "def getLastChar(input):\n",
        "  return input[-1]\n",
        "\n",
        "#def last_letter(string):\n",
        "# return string[-1]"
      ]
    },
    {
      "cell_type": "code",
      "source": [
        "getLastChar('Pythonicalism')"
      ],
      "metadata": {
        "id": "kfapMRBEGyS2",
        "outputId": "3c1a80cf-f8dc-418b-d5d6-1a24fe771752",
        "colab": {
          "base_uri": "https://localhost:8080/",
          "height": 35
        }
      },
      "execution_count": 34,
      "outputs": [
        {
          "output_type": "execute_result",
          "data": {
            "text/plain": [
              "'m'"
            ],
            "application/vnd.google.colaboratory.intrinsic+json": {
              "type": "string"
            }
          },
          "metadata": {},
          "execution_count": 34
        }
      ]
    },
    {
      "cell_type": "code",
      "source": [
        "getLastChar('abcdefghjklmnopqrstuvwxyz')"
      ],
      "metadata": {
        "id": "ze0h0VPiHSx9",
        "outputId": "b2f137ee-df5e-4c52-ee69-33a0a86eec54",
        "colab": {
          "base_uri": "https://localhost:8080/",
          "height": 35
        }
      },
      "execution_count": 35,
      "outputs": [
        {
          "output_type": "execute_result",
          "data": {
            "text/plain": [
              "'z'"
            ],
            "application/vnd.google.colaboratory.intrinsic+json": {
              "type": "string"
            }
          },
          "metadata": {},
          "execution_count": 35
        }
      ]
    },
    {
      "cell_type": "markdown",
      "metadata": {
        "id": "f-I7-hA5n5Rm"
      },
      "source": [
        "![green-divider](https://user-images.githubusercontent.com/7065401/52071924-c003ad80-2562-11e9-8297-1c6595f8a7ff.png)\n",
        "\n",
        "### Exercise 4\n",
        "\n",
        "Make a function that receives a list as parameter and return how many elements it has; if it doesn't have any element return an error."
      ]
    },
    {
      "cell_type": "code",
      "execution_count": 36,
      "metadata": {
        "id": "xmjfnIRwn5Rn"
      },
      "outputs": [],
      "source": [
        "# your code goes here\n",
        "def get_list_length(list_input):\n",
        "  length = len(list_input)\n",
        "  if(length == 0): return 'Error: no elements found'\n",
        "  return 'List has {} elements'.format(length)\n",
        "\n",
        "#def list_size(my_list):\n",
        "#    size = len(my_list)\n",
        "    \n",
        "#    if (size > 0):\n",
        "#        return 'List has {} elements'.format(size)\n",
        "#    else:\n",
        "#        return 'Error, no elements'"
      ]
    },
    {
      "cell_type": "code",
      "source": [
        "ls_one = list()\n",
        "get_list_length(ls_one)"
      ],
      "metadata": {
        "id": "z6W46rCXISjr",
        "outputId": "8c04bde0-7777-454a-a193-429671a73de8",
        "colab": {
          "base_uri": "https://localhost:8080/",
          "height": 35
        }
      },
      "execution_count": 37,
      "outputs": [
        {
          "output_type": "execute_result",
          "data": {
            "text/plain": [
              "'Error: no elements found'"
            ],
            "application/vnd.google.colaboratory.intrinsic+json": {
              "type": "string"
            }
          },
          "metadata": {},
          "execution_count": 37
        }
      ]
    },
    {
      "cell_type": "code",
      "source": [
        "ls_two = [1, 2, 3, 4, 5]\n",
        "get_list_length(ls_two)"
      ],
      "metadata": {
        "id": "AjUh2OPLIgJT",
        "outputId": "f721e887-ee1b-404a-cebf-e79d7475e383",
        "colab": {
          "base_uri": "https://localhost:8080/",
          "height": 35
        }
      },
      "execution_count": 38,
      "outputs": [
        {
          "output_type": "execute_result",
          "data": {
            "text/plain": [
              "'List has 5 elements'"
            ],
            "application/vnd.google.colaboratory.intrinsic+json": {
              "type": "string"
            }
          },
          "metadata": {},
          "execution_count": 38
        }
      ]
    },
    {
      "cell_type": "markdown",
      "metadata": {
        "id": "WfQMvaRjn5Rq"
      },
      "source": [
        "![purple-divider](https://user-images.githubusercontent.com/7065401/52071927-c1cd7100-2562-11e9-908a-dde91ba14e59.png)"
      ]
    }
  ],
  "metadata": {
    "kernelspec": {
      "display_name": "Python 3",
      "language": "python",
      "name": "python3"
    },
    "language_info": {
      "codemirror_mode": {
        "name": "ipython",
        "version": 3
      },
      "file_extension": ".py",
      "mimetype": "text/x-python",
      "name": "python",
      "nbconvert_exporter": "python",
      "pygments_lexer": "ipython3",
      "version": "3.6.8"
    },
    "colab": {
      "provenance": []
    }
  },
  "nbformat": 4,
  "nbformat_minor": 0
}